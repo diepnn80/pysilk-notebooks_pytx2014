{
 "metadata": {
  "name": "",
  "signature": "sha256:bea11d7a6f189a54813d6afba6564fa2eceb3ca90038ad411586c7abf1b9409a"
 },
 "nbformat": 3,
 "nbformat_minor": 0,
 "worksheets": [
  {
   "cells": [
    {
     "cell_type": "code",
     "collapsed": false,
     "input": [
      "import pandas     as pd\n",
      "import matplotlib.pyplot as plt\n",
      "import numpy      as np\n",
      "import silk\n",
      "import datetime\n",
      "\n",
      "from struct import pack\n",
      "\n",
      "%matplotlib inline\n",
      "pd.options.display.mpl_style='default'\n",
      "pd.options.display.max_rows=100\n",
      "pd.options.display.max_columns=30\n",
      "pd.options.display.width=300"
     ],
     "language": "python",
     "metadata": {},
     "outputs": [],
     "prompt_number": 42
    },
    {
     "cell_type": "code",
     "collapsed": false,
     "input": [
      "if (not silk.site.have_site_config()):\n",
      "    silk.site.init_site('samples/silk.conf')\n",
      "\n",
      "print \"Sensors: \", ', '.join(list(silk.site.sensors()))\n",
      "print \"Classes: \", ', '.join(list(silk.site.classes()))\n",
      "for cls in silk.site.classes():\n",
      "    print \"Types in class '\" + cls + \"': \", ', '.join(list(silk.site.types(cls)))\n",
      "print \"Timezone: \" + silk.get_configuration(\"TIMEZONE_SUPPORT\")\n",
      "print \"Data Root: \" + silk.site.get_data_rootdir()\n"
     ],
     "language": "python",
     "metadata": {},
     "outputs": [
      {
       "output_type": "stream",
       "stream": "stdout",
       "text": [
        "Sensors:  S2, S1, S0\n",
        "Classes:  all\n",
        "Types in class 'all':  in, out, inweb, outweb, innull, outnull, int2int, ext2ext, inicmp, outicmp, other\n",
        "Timezone: local\n",
        "Data Root: /data\n"
       ]
      }
     ],
     "prompt_number": 43
    },
    {
     "cell_type": "code",
     "collapsed": false,
     "input": [
      "# WILL NOT RUN ON YOUR HOST\n",
      "#silkfiles=list(\n",
      "#    silk.site.repository_iter(start='2014/05/01:00', end='2014/05/01:03', classname='all', types=['in','inweb'] )\n",
      "#)\n",
      "#print 'loaded {0} files'.format(len(silkfiles))"
     ],
     "language": "python",
     "metadata": {},
     "outputs": [],
     "prompt_number": 44
    },
    {
     "cell_type": "code",
     "collapsed": false,
     "input": [
      "# convenience method to always return a SilkFile\n",
      "def open_silk(silkfile):\n",
      "  if silkfile.__class__ == silk.SilkFile:\n",
      "    return silkfile\n",
      "  else:\n",
      "    return silk.silkfile_open(silkfile,silk.READ)\n",
      "\n",
      "# simple projection of RWRec objects\n",
      "def map_rwrec(rec):\n",
      "    return {\n",
      "        'stime':       rec.stime,\n",
      "        'application': rec.application,\n",
      "        'protocol':    rec.protocol,\n",
      "        'sip':         str(rec.sip),\n",
      "        'sint':        int(rec.sip),\n",
      "        'sport':       rec.sport,\n",
      "        'dip':         str(rec.dip),\n",
      "        'dint':        int(rec.dip),\n",
      "        'dport':       rec.dport,\n",
      "        'bytes':       rec.bytes,\n",
      "        'packets':     rec.packets,\n",
      "        'duration':    rec.duration_secs,\n",
      "        'flags_init':  str(rec.initial_tcpflags),\n",
      "        'flags_sess':  str(rec.session_tcpflags),\n",
      "        'classname':   rec.classname,\n",
      "        'typename':    rec.typename,\n",
      "        'records':     1,\n",
      "        'sensor':      rec.sensor_id,\n",
      "    }\n",
      "\n",
      "# lazily iterable projection\n",
      "def iter_project(silkfile,func=map_rwrec):\n",
      "  sf=open_silk(silkfile)\n",
      "  for rec in sf:\n",
      "    yield func(rec)\n",
      "\n",
      "# convenience method for creating dataframes from silkfiles\n",
      "def create_df(silkfile, func=map_rwrec):\n",
      "    return pd.DataFrame.from_records(iter_project(silkfile),index='stime')\n"
     ],
     "language": "python",
     "metadata": {},
     "outputs": [],
     "prompt_number": 45
    },
    {
     "cell_type": "code",
     "collapsed": false,
     "input": [
      "sample_file='samples/1mil.rwz'\n",
      "print str(datetime.datetime.now()) + \" \" + sample_file\n",
      "frame=create_df(sample_file)\n",
      "print str(datetime.datetime.now())"
     ],
     "language": "python",
     "metadata": {},
     "outputs": [
      {
       "output_type": "stream",
       "stream": "stdout",
       "text": [
        "2014-10-07 14:35:59.579164 samples/1mil.rwz\n",
        "2014-10-07 14:36:25.101813"
       ]
      },
      {
       "output_type": "stream",
       "stream": "stdout",
       "text": [
        "\n"
       ]
      }
     ],
     "prompt_number": 46
    },
    {
     "cell_type": "code",
     "collapsed": false,
     "input": [
      "filtered=frame[frame['protocol']==6]"
     ],
     "language": "python",
     "metadata": {},
     "outputs": [],
     "prompt_number": 67
    },
    {
     "cell_type": "code",
     "collapsed": false,
     "input": [
      "filtered.columns"
     ],
     "language": "python",
     "metadata": {},
     "outputs": [
      {
       "metadata": {},
       "output_type": "pyout",
       "prompt_number": 68,
       "text": [
        "Index([u'application', u'bytes', u'classname', u'dint', u'dip', u'dport', u'duration', u'flags_init', u'flags_sess', u'packets', u'protocol', u'records', u'sensor', u'sint', u'sip', u'sport', u'typename'], dtype='object')"
       ]
      }
     ],
     "prompt_number": 68
    },
    {
     "cell_type": "code",
     "collapsed": false,
     "input": [
      "totals=filtered[['dport','records','bytes','packets']].groupby(['dport']).sum()"
     ],
     "language": "python",
     "metadata": {},
     "outputs": [],
     "prompt_number": 69
    },
    {
     "cell_type": "code",
     "collapsed": false,
     "input": [
      "totals.plot(kind='bar',subplots=True,sharex=True,figsize=(8,12))"
     ],
     "language": "python",
     "metadata": {},
     "outputs": [
      {
       "metadata": {},
       "output_type": "pyout",
       "prompt_number": 70,
       "text": [
        "array([<matplotlib.axes._subplots.AxesSubplot object at 0x10885c9d0>,\n",
        "       <matplotlib.axes._subplots.AxesSubplot object at 0x113dcb1d0>,\n",
        "       <matplotlib.axes._subplots.AxesSubplot object at 0x133a52050>], dtype=object)"
       ]
      },
      {
       "metadata": {},
       "output_type": "display_data",
       "png": "[encoded data removed]",
       "text": [
        "<matplotlib.figure.Figure at 0x11038f290>"
       ]
      }
     ],
     "prompt_number": 70
    }
   ],
   "metadata": {}
  }
 ]
}