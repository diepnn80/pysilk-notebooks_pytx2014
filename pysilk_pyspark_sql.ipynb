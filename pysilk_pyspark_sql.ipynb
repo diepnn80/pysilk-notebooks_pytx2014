{
 "metadata": {
  "name": "",
  "signature": "sha256:56316c54fc15b44afdcab64eea502db535426e48a6e328ffa9bed66d056de124"
 },
 "nbformat": 3,
 "nbformat_minor": 0,
 "worksheets": [
  {
   "cells": [
    {
     "cell_type": "code",
     "collapsed": false,
     "input": [
      "from pyspark.sql import SQLContext\n",
      "sqlc=SQLContext(sc)"
     ],
     "language": "python",
     "metadata": {},
     "outputs": [],
     "prompt_number": 1
    },
    {
     "cell_type": "code",
     "collapsed": false,
     "input": [
      "tsv=sc.textFile('samples/1mil.tsv')\n",
      "header=tsv.first()\n",
      "fields=header.split('\\t')"
     ],
     "language": "python",
     "metadata": {},
     "outputs": [],
     "prompt_number": 2
    },
    {
     "cell_type": "code",
     "collapsed": false,
     "input": [
      "rdd=tsv.filter(\n",
      "          lambda line: line != header\n",
      "        ).map(\n",
      "          lambda row: dict(zip(fields,row.split('\\t')))\n",
      "        )"
     ],
     "language": "python",
     "metadata": {},
     "outputs": [],
     "prompt_number": 3
    },
    {
     "cell_type": "code",
     "collapsed": false,
     "input": [
      "srdd=sqlc.inferSchema(rdd)\n",
      "srdd.registerAsTable('flows')"
     ],
     "language": "python",
     "metadata": {},
     "outputs": [],
     "prompt_number": 4
    },
    {
     "cell_type": "code",
     "collapsed": false,
     "input": [
      "sqlc.sql('select count(*) from flows').collect()"
     ],
     "language": "python",
     "metadata": {},
     "outputs": [
      {
       "metadata": {},
       "output_type": "pyout",
       "prompt_number": 5,
       "text": [
        "[{u'c0': 1000000}]"
       ]
      }
     ],
     "prompt_number": 5
    }
   ],
   "metadata": {}
  }
 ]
}